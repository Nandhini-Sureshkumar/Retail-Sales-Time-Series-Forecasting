{
 "cells": [
  {
   "cell_type": "code",
   "execution_count": 22,
   "id": "8f7d15d6-6ae6-4fd2-875f-42cb6f9574b6",
   "metadata": {},
   "outputs": [],
   "source": [
    "nums =[1,2,3,4,5]"
   ]
  },
  {
   "cell_type": "code",
   "execution_count": 5,
   "id": "41fbf5bd-81a9-4120-b555-9d3b47345ca0",
   "metadata": {},
   "outputs": [
    {
     "name": "stdout",
     "output_type": "stream",
     "text": [
      "0 index and 1 number\n",
      "1 index and 2 number\n",
      "2 index and 3 number\n",
      "3 index and 4 number\n",
      "4 index and 5 number\n"
     ]
    }
   ],
   "source": [
    "for i,num in enumerate(l):\n",
    "    print('{} index and {} number'.format(i,num))"
   ]
  },
  {
   "cell_type": "code",
   "execution_count": 12,
   "id": "c9e17e88-5989-4202-a871-327d54441c91",
   "metadata": {},
   "outputs": [
    {
     "name": "stdout",
     "output_type": "stream",
     "text": [
      "[1, 4]\n",
      "[2, 3]\n",
      "[3, 2]\n",
      "[4, 1]\n"
     ]
    }
   ],
   "source": [
    "target = 7\n",
    "\n",
    "indeces = {}\n",
    "\n",
    "for i, num in enumerate(l):\n",
    "    indeces[num] = i\n",
    "\n",
    "for i,num in enumerate(l):\n",
    "    diff = target - num\n",
    "\n",
    "    if diff in indeces and indeces[diff]!=i:\n",
    "        print( [i,indeces[diff]])"
   ]
  },
  {
   "cell_type": "code",
   "execution_count": 11,
   "id": "01a40cf7-453c-40af-9b36-d9d412a3c25e",
   "metadata": {},
   "outputs": [
    {
     "name": "stdout",
     "output_type": "stream",
     "text": [
      "[1, 4]\n",
      "[2, 3]\n",
      "[3, 2]\n",
      "[4, 1]\n"
     ]
    }
   ],
   "source": [
    "indices = {}  # val -> index\n",
    "\n",
    "for i, n in enumerate(l):\n",
    "    indices[n] = i\n",
    "\n",
    "for i, n in enumerate(l):\n",
    "    diff = target - n\n",
    "    if diff in indices and indices[diff] != i:\n",
    "        print( [i, indices[diff]])"
   ]
  },
  {
   "cell_type": "code",
   "execution_count": 23,
   "id": "3adddc75-2879-45cb-9db9-6179951854ec",
   "metadata": {},
   "outputs": [],
   "source": [
    "target = 7"
   ]
  },
  {
   "cell_type": "code",
   "execution_count": 19,
   "id": "b7f0aebb-b0b6-4912-b2b5-1f7648aca7d4",
   "metadata": {},
   "outputs": [
    {
     "name": "stdout",
     "output_type": "stream",
     "text": [
      "[1, 4]\n",
      "[2, 3]\n"
     ]
    }
   ],
   "source": [
    "for i in range(0,len(nums)):\n",
    "    for j in range(i+1,len(nums)):\n",
    "        if nums[i] + nums[j] == target:\n",
    "            print( [i,j])"
   ]
  },
  {
   "cell_type": "code",
   "execution_count": 30,
   "id": "92116233-485e-4d3b-99a9-615e13e22555",
   "metadata": {},
   "outputs": [
    {
     "name": "stdout",
     "output_type": "stream",
     "text": [
      "[2, 3]\n",
      "[1, 4]\n"
     ]
    }
   ],
   "source": [
    "prevMap = {}\n",
    "\n",
    "for i, num in enumerate(nums):\n",
    "    diff = target - num\n",
    "    if diff in prevMap:\n",
    "        print([prevMap[diff],i])\n",
    "    prevMap[num] = i"
   ]
  },
  {
   "cell_type": "code",
   "execution_count": 32,
   "id": "a2e73b79-0d52-450e-bca2-fcec63afa3fa",
   "metadata": {},
   "outputs": [],
   "source": [
    "strs = [\"act\",\"pots\",\"tops\",\"cat\",\"stop\",\"hat\"]"
   ]
  },
  {
   "cell_type": "code",
   "execution_count": 46,
   "id": "94fc0efd-1a29-413b-ad2c-24558d6bdded",
   "metadata": {},
   "outputs": [
    {
     "name": "stdout",
     "output_type": "stream",
     "text": [
      "{'act': [], 'opst': [], 'aht': []}\n"
     ]
    }
   ],
   "source": [
    "ana = []\n",
    "for i,num in enumerate(strs):\n",
    "    if ''.join(sorted(num)) not in ana:\n",
    "        ana.append(''.join(sorted(num)))\n",
    "ana = {key: [] for key in ana}\n",
    "print(ana)            "
   ]
  },
  {
   "cell_type": "code",
   "execution_count": 91,
   "id": "22bb0abb-ece0-4251-8dac-6f97bcce1abc",
   "metadata": {},
   "outputs": [],
   "source": [
    "from collections import defaultdict"
   ]
  },
  {
   "cell_type": "code",
   "execution_count": 61,
   "id": "63d3676a-0e53-43aa-b602-4a1abcf36d2a",
   "metadata": {},
   "outputs": [
    {
     "name": "stdout",
     "output_type": "stream",
     "text": [
      "[['act', 'cat'], ['pots', 'tops', 'stop'], ['hat']]\n"
     ]
    }
   ],
   "source": [
    "ana = defaultdict(list)\n",
    "\n",
    "for value in strs:\n",
    "    temp_sorted = ''.join(sorted(value))\n",
    "    ana[temp_sorted].append(value)\n",
    "print(list(ana.values()))"
   ]
  },
  {
   "cell_type": "code",
   "execution_count": 71,
   "id": "f2226f04-48c9-411d-82ad-efe71ac59e42",
   "metadata": {},
   "outputs": [
    {
     "name": "stdout",
     "output_type": "stream",
     "text": [
      "(1, 0, 1, 0, 0, 0, 0, 0, 0, 0, 0, 0, 0, 0, 0, 0, 0, 0, 0, 1, 0, 0, 0, 0, 0, 0)\n",
      "(0, 0, 0, 0, 0, 0, 0, 0, 0, 0, 0, 0, 0, 0, 1, 1, 0, 0, 1, 1, 0, 0, 0, 0, 0, 0)\n",
      "(0, 0, 0, 0, 0, 0, 0, 0, 0, 0, 0, 0, 0, 0, 1, 1, 0, 0, 1, 1, 0, 0, 0, 0, 0, 0)\n",
      "(1, 0, 1, 0, 0, 0, 0, 0, 0, 0, 0, 0, 0, 0, 0, 0, 0, 0, 0, 1, 0, 0, 0, 0, 0, 0)\n",
      "(0, 0, 0, 0, 0, 0, 0, 0, 0, 0, 0, 0, 0, 0, 1, 1, 0, 0, 1, 1, 0, 0, 0, 0, 0, 0)\n",
      "(1, 0, 0, 0, 0, 0, 0, 1, 0, 0, 0, 0, 0, 0, 0, 0, 0, 0, 0, 1, 0, 0, 0, 0, 0, 0)\n"
     ]
    },
    {
     "data": {
      "text/plain": [
       "[['act', 'cat'], ['pots', 'tops', 'stop'], ['hat']]"
      ]
     },
     "execution_count": 71,
     "metadata": {},
     "output_type": "execute_result"
    }
   ],
   "source": [
    "ana = defaultdict(list)\n",
    "\n",
    "for value in strs:\n",
    "    count = [0] * 26\n",
    "    for c in value:\n",
    "        count[ord(c)-ord(\"a\") ]+=1\n",
    "        #print(count)\n",
    "    print(tuple(count))\n",
    "    ana[tuple(count)].append(value)\n",
    "\n",
    "list(ana.values())"
   ]
  },
  {
   "cell_type": "code",
   "execution_count": 80,
   "id": "1d86339d-6565-417d-bc7b-150bfde93c76",
   "metadata": {},
   "outputs": [
    {
     "name": "stdout",
     "output_type": "stream",
     "text": [
      "[2, 3]\n"
     ]
    }
   ],
   "source": [
    "nums = [1,2,2,3,3,3]\n",
    "k = 2\n",
    "l = []\n",
    "for value in set(nums):\n",
    "    temp = nums.count(value)\n",
    "    if temp>= k:\n",
    "        l.append(value)\n",
    "print(l)"
   ]
  },
  {
   "cell_type": "code",
   "execution_count": 88,
   "id": "3202e84d-a929-46e3-ade7-ac69b4a22e4f",
   "metadata": {},
   "outputs": [
    {
     "data": {
      "text/plain": [
       "[[1, 1], [2, 2], [3, 3]]"
      ]
     },
     "execution_count": 88,
     "metadata": {},
     "output_type": "execute_result"
    }
   ],
   "source": [
    "count = {}\n",
    "for num in nums:\n",
    "    count[num] = 1 + count.get(num, 0)\n",
    "\n"
   ]
  },
  {
   "cell_type": "code",
   "execution_count": 83,
   "id": "d0541af6-78c8-4ca4-9202-39b9f958043c",
   "metadata": {},
   "outputs": [
    {
     "data": {
      "text/plain": [
       "{1: 1, 2: 2, 3: 3}"
      ]
     },
     "execution_count": 83,
     "metadata": {},
     "output_type": "execute_result"
    }
   ],
   "source": [
    "count"
   ]
  },
  {
   "cell_type": "code",
   "execution_count": 104,
   "id": "00492434-3f5e-449c-855d-6a15a52c6125",
   "metadata": {},
   "outputs": [],
   "source": [
    "chk =  [1,2,2,3,3,3] #[1,2,3,4,1,2,4,5,3,4,5,2,3,4,5,6]"
   ]
  },
  {
   "cell_type": "code",
   "execution_count": 107,
   "id": "9c67269a-c9bd-4107-879c-5424edf019d9",
   "metadata": {},
   "outputs": [
    {
     "name": "stdout",
     "output_type": "stream",
     "text": [
      "[[1, 1], [2, 2], [3, 3]]\n",
      "0\n",
      "[3]\n",
      "1\n",
      "[3, 2]\n"
     ]
    },
    {
     "data": {
      "text/plain": [
       "[3, 2]"
      ]
     },
     "execution_count": 107,
     "metadata": {},
     "output_type": "execute_result"
    }
   ],
   "source": [
    "chck_dict = {}\n",
    "for num in chk:\n",
    "    chck_dict[num] = 1 + chck_dict.get(num,0)\n",
    "\n",
    "arr = []\n",
    "for key,value in chck_dict.items():\n",
    "    arr.append([key,value])\n",
    "print(arr)\n",
    "\n",
    "res = []\n",
    "while len(res) < k:\n",
    "    print(len(res))\n",
    "    res.append(arr.pop()[1])\n",
    "    print(res)\n",
    "res"
   ]
  },
  {
   "cell_type": "code",
   "execution_count": 96,
   "id": "b2ad4bfb-a7a1-48a5-8c8e-e3c55ca125e3",
   "metadata": {},
   "outputs": [
    {
     "data": {
      "text/plain": [
       "{7: 2}"
      ]
     },
     "execution_count": 96,
     "metadata": {},
     "output_type": "execute_result"
    }
   ],
   "source": [
    "chck_dict"
   ]
  },
  {
   "cell_type": "code",
   "execution_count": 98,
   "id": "dea4aafc-e150-4e4a-8d36-593ddf5c36d5",
   "metadata": {},
   "outputs": [
    {
     "data": {
      "text/plain": [
       "[]"
      ]
     },
     "execution_count": 98,
     "metadata": {},
     "output_type": "execute_result"
    }
   ],
   "source": [
    "arr"
   ]
  },
  {
   "cell_type": "code",
   "execution_count": 108,
   "id": "ebb75f5d-38af-4cdb-989f-86b00482023f",
   "metadata": {},
   "outputs": [
    {
     "data": {
      "text/plain": [
       "[[1, 1], [2, 2], [3, 3]]"
      ]
     },
     "execution_count": 108,
     "metadata": {},
     "output_type": "execute_result"
    }
   ],
   "source": [
    "arr = []\n",
    "for key,value in chck_dict.items():\n",
    "    arr.append([key,value])\n",
    "arr"
   ]
  },
  {
   "cell_type": "code",
   "execution_count": 109,
   "id": "bd5560ef-c9d6-4425-99cf-afb2c9dd0c11",
   "metadata": {},
   "outputs": [
    {
     "data": {
      "text/plain": [
       "[3, 3]"
      ]
     },
     "execution_count": 109,
     "metadata": {},
     "output_type": "execute_result"
    }
   ],
   "source": [
    "arr.pop()"
   ]
  },
  {
   "cell_type": "code",
   "execution_count": 121,
   "id": "180f7054-87f0-4201-bd3f-1f30bdb00d9d",
   "metadata": {},
   "outputs": [],
   "source": [
    "chk =  [1,2,2,3,3,3,4,4,4,4,4,4,4]"
   ]
  },
  {
   "cell_type": "code",
   "execution_count": 125,
   "id": "b34a53a2-938f-4588-8ad9-4788895fafec",
   "metadata": {},
   "outputs": [
    {
     "name": "stdout",
     "output_type": "stream",
     "text": [
      "[4, 3]\n"
     ]
    }
   ],
   "source": [
    "count = {}\n",
    "for value in chk:\n",
    "    count[value] = 1+count.get(value,0)\n",
    "\n",
    "freq = [[] for i in range(len(chk)+1)] \n",
    "res = []\n",
    "\n",
    "for n,c in count.items():\n",
    "    freq[c].append(n)\n",
    "freq\n",
    "\n",
    "for i in range(len(freq)-1,0,-1):\n",
    "    for n in freq[i]:\n",
    "        res.append(n)\n",
    "        if len(res) == k:\n",
    "            print(res)"
   ]
  },
  {
   "cell_type": "code",
   "execution_count": 116,
   "id": "033bc731-17fd-479c-bd9a-ac64b1670d61",
   "metadata": {},
   "outputs": [
    {
     "data": {
      "text/plain": [
       "{1: 1, 2: 2, 3: 3}"
      ]
     },
     "execution_count": 116,
     "metadata": {},
     "output_type": "execute_result"
    }
   ],
   "source": [
    "count"
   ]
  },
  {
   "cell_type": "code",
   "execution_count": 26,
   "id": "6be51917-5e3d-4fd4-8912-7725791d34f3",
   "metadata": {},
   "outputs": [],
   "source": [
    "def encode( strs) -> str:\n",
    "    temp = ''\n",
    "    for value in strs:\n",
    "        temp = temp+ str(len(value)) +'#' +str(value) \n",
    "    return temp\n",
    "\n",
    "def decode( s: str) :\n",
    "    i=0\n",
    "    temp = []\n",
    "    while i<len(s):\n",
    "        j = ''\n",
    "        while s[i] != '#':\n",
    "             j = str(j) + str(s[i])\n",
    "             i = i + 1\n",
    "        print(j)\n",
    "        temp.append(s[i+1:i+int(j)+1])\n",
    "        i = i+1+int(j) \n",
    "        print(i)\n",
    "    return temp\n",
    "    "
   ]
  },
  {
   "cell_type": "code",
   "execution_count": 27,
   "id": "0f663f5d-f9ab-4762-9501-9281cba86c52",
   "metadata": {},
   "outputs": [
    {
     "name": "stdout",
     "output_type": "stream",
     "text": [
      "4#1,234#45,65#7,8,9\n",
      "4\n",
      "6\n",
      "4\n",
      "12\n",
      "5\n",
      "19\n"
     ]
    },
    {
     "data": {
      "text/plain": [
       "['1,23', '45,6', '7,8,9']"
      ]
     },
     "execution_count": 27,
     "metadata": {},
     "output_type": "execute_result"
    }
   ],
   "source": [
    "x = encode([\"1,23\",\"45,6\",\"7,8,9\"])\n",
    "print(x)\n",
    "decode(x)"
   ]
  },
  {
   "cell_type": "code",
   "execution_count": 12,
   "id": "7f1ba167-fe99-4e1e-af49-c518ecc6d393",
   "metadata": {},
   "outputs": [
    {
     "data": {
      "text/plain": [
       "'4#1,234#45,65#7,8,9'"
      ]
     },
     "execution_count": 12,
     "metadata": {},
     "output_type": "execute_result"
    }
   ],
   "source": [
    "x"
   ]
  },
  {
   "cell_type": "code",
   "execution_count": 90,
   "id": "60c9edfe-204e-434e-aa5d-7c259f41e657",
   "metadata": {},
   "outputs": [
    {
     "data": {
      "text/plain": [
       "0"
      ]
     },
     "execution_count": 90,
     "metadata": {},
     "output_type": "execute_result"
    }
   ],
   "source": [
    "len(\"\")"
   ]
  },
  {
   "cell_type": "code",
   "execution_count": 14,
   "id": "5f5157b0-f799-4036-bb2d-382bba9b2a28",
   "metadata": {},
   "outputs": [
    {
     "data": {
      "text/plain": [
       "'abc'"
      ]
     },
     "execution_count": 14,
     "metadata": {},
     "output_type": "execute_result"
    }
   ],
   "source": [
    "x = 'abcd'\n",
    "x[0:3]"
   ]
  },
  {
   "cell_type": "code",
   "execution_count": 65,
   "id": "7969f021-6c5e-42b3-9d8b-37c24f729801",
   "metadata": {},
   "outputs": [],
   "source": [
    "nums = [4,3,2,8,6]"
   ]
  },
  {
   "cell_type": "code",
   "execution_count": 66,
   "id": "d0a6513f-2eed-4969-b58f-76b0f9a824bb",
   "metadata": {},
   "outputs": [
    {
     "data": {
      "text/plain": [
       "[4, 3, 2, 8, 6]"
      ]
     },
     "execution_count": 66,
     "metadata": {},
     "output_type": "execute_result"
    }
   ],
   "source": [
    "n = len(nums)\n",
    "res = [0] * n\n",
    "pref = [0] * n\n",
    "suff = [0] * n\n",
    "\n",
    "pref[0] = suff[n - 1] = 1\n",
    "for i in range(1, n):\n",
    "    pref[i] = nums[i - 1] * pref[i - 1]\n",
    "for i in range(n - 2, -1, -1):\n",
    "    suff[i] = nums[i + 1] * suff[i + 1]\n",
    "for i in range(n):\n",
    "    res[i] = pref[i] * suff[i] \n",
    "\n",
    "nums"
   ]
  },
  {
   "cell_type": "code",
   "execution_count": 67,
   "id": "9e4ce81f-bcd8-401e-a10f-7cfa50732bd4",
   "metadata": {},
   "outputs": [
    {
     "data": {
      "text/plain": [
       "[1, 4, 12, 24, 192]"
      ]
     },
     "execution_count": 67,
     "metadata": {},
     "output_type": "execute_result"
    }
   ],
   "source": [
    "pref"
   ]
  },
  {
   "cell_type": "code",
   "execution_count": 68,
   "id": "d5f576ec-8a5f-44c1-b590-30279d620cf2",
   "metadata": {},
   "outputs": [
    {
     "data": {
      "text/plain": [
       "[288, 96, 48, 6, 1]"
      ]
     },
     "execution_count": 68,
     "metadata": {},
     "output_type": "execute_result"
    }
   ],
   "source": [
    "suff"
   ]
  },
  {
   "cell_type": "code",
   "execution_count": 71,
   "id": "6932dcf7-966c-4b5e-8d05-3db065b7627d",
   "metadata": {},
   "outputs": [
    {
     "data": {
      "text/plain": [
       "[288, 384, 576, 144, 192]"
      ]
     },
     "execution_count": 71,
     "metadata": {},
     "output_type": "execute_result"
    }
   ],
   "source": [
    "res"
   ]
  },
  {
   "cell_type": "code",
   "execution_count": 76,
   "id": "abfc1b68-b1e1-4be7-84d1-eec9eb3d9ea2",
   "metadata": {},
   "outputs": [
    {
     "data": {
      "text/plain": [
       "[288, 384, 576, 144, 192]"
      ]
     },
     "execution_count": 76,
     "metadata": {},
     "output_type": "execute_result"
    }
   ],
   "source": [
    "l = len(nums)\n",
    "\n",
    "out = [1] * l\n",
    "\n",
    "prefix = 1\n",
    "for i in range(0,l):\n",
    "    out[i] = prefix\n",
    "    prefix *= nums[i]\n",
    "\n",
    "suffix =1\n",
    "for i in range(l-1,-1,-1):\n",
    "    out[i] *= suffix\n",
    "    suffix *= nums[i]\n",
    "\n",
    "out"
   ]
  },
  {
   "cell_type": "code",
   "execution_count": 124,
   "id": "d8ebbddc-1fac-4d74-93fb-ca9c52d3166b",
   "metadata": {},
   "outputs": [],
   "source": [
    "nums = [2,20,4,10,3,4,5]"
   ]
  },
  {
   "cell_type": "code",
   "execution_count": 127,
   "id": "a0fe044f-fb11-496a-a194-a66f7f69e026",
   "metadata": {},
   "outputs": [
    {
     "data": {
      "text/plain": [
       "4"
      ]
     },
     "execution_count": 127,
     "metadata": {},
     "output_type": "execute_result"
    }
   ],
   "source": [
    "l = list(set(nums))\n",
    "\n",
    "temp = [[] for e in range(len(l))]\n",
    "i=0\n",
    "for j in range(0,len(l)-1):\n",
    "    temp[i].append(l[j])\n",
    "    if abs(l[j] - l[j+1]) == 1:\n",
    "        temp[i].append(l[j+1])\n",
    "    else:\n",
    "        i+=1\n",
    "\n",
    "\n",
    "d = defaultdict(list)\n",
    "for value in temp:\n",
    "    d[len(set(value))] = list(set(value))\n",
    "        \n",
    "max(d.keys())"
   ]
  },
  {
   "cell_type": "code",
   "execution_count": 129,
   "id": "1f32357b-d4a8-4bde-89ec-074df48f7b31",
   "metadata": {},
   "outputs": [
    {
     "name": "stdout",
     "output_type": "stream",
     "text": [
      "4\n"
     ]
    }
   ],
   "source": [
    "l = set(nums)\n",
    "longest = 0\n",
    "for value in l:\n",
    "    if value-1 not in l:\n",
    "        length = 1\n",
    "        while value+length in l:\n",
    "            length+=1\n",
    "        longest = max(length,longest)\n",
    "print(longest)"
   ]
  },
  {
   "cell_type": "code",
   "execution_count": 130,
   "id": "e379fd39-c503-4993-81f0-ff8e39f6afc4",
   "metadata": {},
   "outputs": [
    {
     "data": {
      "text/plain": [
       "{2, 3, 4, 5, 10, 20}"
      ]
     },
     "execution_count": 130,
     "metadata": {},
     "output_type": "execute_result"
    }
   ],
   "source": [
    "l"
   ]
  },
  {
   "cell_type": "code",
   "execution_count": 115,
   "id": "2a815c24-e8d7-476e-8ea0-340652c4b3b3",
   "metadata": {},
   "outputs": [
    {
     "data": {
      "text/plain": [
       "[0]"
      ]
     },
     "execution_count": 115,
     "metadata": {},
     "output_type": "execute_result"
    }
   ],
   "source": [
    "l"
   ]
  },
  {
   "cell_type": "code",
   "execution_count": 121,
   "id": "3a77f94f-1f9f-4dff-8de5-47b55aa5e385",
   "metadata": {},
   "outputs": [
    {
     "data": {
      "text/plain": [
       "1"
      ]
     },
     "execution_count": 121,
     "metadata": {},
     "output_type": "execute_result"
    }
   ],
   "source": [
    "len(l)"
   ]
  },
  {
   "cell_type": "code",
   "execution_count": 120,
   "id": "34d674c3-628f-4c50-a259-8695c4a5708d",
   "metadata": {},
   "outputs": [
    {
     "data": {
      "text/plain": [
       "[[], []]"
      ]
     },
     "execution_count": 120,
     "metadata": {},
     "output_type": "execute_result"
    }
   ],
   "source": [
    "[[] for e in range(1)]"
   ]
  },
  {
   "cell_type": "code",
   "execution_count": 138,
   "id": "b201cd6b-52d6-4d2d-8299-150f920f7c50",
   "metadata": {},
   "outputs": [],
   "source": [
    "import re"
   ]
  },
  {
   "cell_type": "code",
   "execution_count": 147,
   "id": "a07229f3-74ef-47a8-bb7e-273e124af06c",
   "metadata": {},
   "outputs": [],
   "source": [
    "s = \"Was it a car or a cat I saw?\""
   ]
  },
  {
   "cell_type": "code",
   "execution_count": 150,
   "id": "2f12b0c7-f6e7-4ad7-aeb1-8ed550c13a1e",
   "metadata": {},
   "outputs": [
    {
     "data": {
      "text/plain": [
       "True"
      ]
     },
     "execution_count": 150,
     "metadata": {},
     "output_type": "execute_result"
    }
   ],
   "source": [
    "temp = ''\n",
    "for i in range(0,len(s)):\n",
    "    if re.match(r'^[a-zA-Z0-9]', s[i]):\n",
    "        temp+=s[i].lower()\n",
    "output = False\n",
    "if temp == temp[::-1]:\n",
    "    output = True       \n",
    "output"
   ]
  },
  {
   "cell_type": "code",
   "execution_count": 151,
   "id": "1318a382-fccd-449e-8c29-c1f03326ebe9",
   "metadata": {},
   "outputs": [
    {
     "data": {
      "text/plain": [
       "'wasitacaroracatisaw'"
      ]
     },
     "execution_count": 151,
     "metadata": {},
     "output_type": "execute_result"
    }
   ],
   "source": [
    "temp"
   ]
  },
  {
   "cell_type": "code",
   "execution_count": 154,
   "id": "f0fdf930-9117-46a8-9fbf-4e67db10e0ee",
   "metadata": {},
   "outputs": [
    {
     "data": {
      "text/plain": [
       "True"
      ]
     },
     "execution_count": 154,
     "metadata": {},
     "output_type": "execute_result"
    }
   ],
   "source": [
    "temp = ''\n",
    "li = [''] * len(s)\n",
    "li_rev = ['']* len(s)\n",
    "for i in range(0,len(s)):\n",
    "    if re.match(r'^[a-zA-Z0-9]', s[i]):\n",
    "        li[i] = s[i].lower()\n",
    "        li_rev[-1-i] = s[i].lower()\n",
    "       \n",
    "return ''.join(li) == ''.join(li_rev)"
   ]
  },
  {
   "cell_type": "code",
   "execution_count": 152,
   "id": "e33266e1-7773-4562-888b-1ba2d1444547",
   "metadata": {},
   "outputs": [
    {
     "data": {
      "text/plain": [
       "['W',\n",
       " 'a',\n",
       " 's',\n",
       " ' ',\n",
       " 'i',\n",
       " 't',\n",
       " ' ',\n",
       " 'a',\n",
       " ' ',\n",
       " 'c',\n",
       " 'a',\n",
       " 'r',\n",
       " ' ',\n",
       " 'o',\n",
       " 'r',\n",
       " ' ',\n",
       " 'a',\n",
       " ' ',\n",
       " 'c',\n",
       " 'a',\n",
       " 't',\n",
       " ' ',\n",
       " 'I',\n",
       " ' ',\n",
       " 's',\n",
       " 'a',\n",
       " 'w',\n",
       " '?']"
      ]
     },
     "execution_count": 152,
     "metadata": {},
     "output_type": "execute_result"
    }
   ],
   "source": [
    "list(s)"
   ]
  },
  {
   "cell_type": "code",
   "execution_count": 172,
   "id": "49368d5f-c257-4d04-929c-a213e239f4f8",
   "metadata": {},
   "outputs": [
    {
     "data": {
      "text/plain": [
       "[[-1, 0, 1], [-1, -1, 2]]"
      ]
     },
     "execution_count": 172,
     "metadata": {},
     "output_type": "execute_result"
    }
   ],
   "source": [
    "nums = [-1,0,1,2,-1,-4]\n",
    "temp = set()\n",
    "nums.sort()\n",
    "\n",
    "for i in range(0,len(nums)):\n",
    "    for j in range(i+1,len(nums)):\n",
    "        for k in range(j+1,len(nums)):\n",
    "            if nums[i]+nums[j]+nums[k] == 0:\n",
    "                temp.add(tuple([nums[i],nums[j],nums[k]]))\n",
    "\n",
    "[list(i) for i in temp]"
   ]
  },
  {
   "cell_type": "code",
   "execution_count": 164,
   "id": "bed86cc3-ea12-4c24-ad53-3c6952e298ed",
   "metadata": {},
   "outputs": [
    {
     "data": {
      "text/plain": [
       "[-1, 0, 1]"
      ]
     },
     "execution_count": 164,
     "metadata": {},
     "output_type": "execute_result"
    }
   ],
   "source": [
    "set_1"
   ]
  },
  {
   "cell_type": "code",
   "execution_count": 167,
   "id": "38ecc3dd-c63b-4268-a620-b39349088ef8",
   "metadata": {},
   "outputs": [
    {
     "data": {
      "text/plain": [
       "{(-1, -1, 2), (-1, 0, 1)}"
      ]
     },
     "execution_count": 167,
     "metadata": {},
     "output_type": "execute_result"
    }
   ],
   "source": [
    "temp"
   ]
  },
  {
   "cell_type": "code",
   "execution_count": null,
   "id": "47332822-0827-4e0d-a0c5-f0ec73aaddcb",
   "metadata": {},
   "outputs": [],
   "source": [
    "numbers = [1,2,3,4], target = 3"
   ]
  }
 ],
 "metadata": {
  "kernelspec": {
   "display_name": "Python 3 (ipykernel)",
   "language": "python",
   "name": "python3"
  },
  "language_info": {
   "codemirror_mode": {
    "name": "ipython",
    "version": 3
   },
   "file_extension": ".py",
   "mimetype": "text/x-python",
   "name": "python",
   "nbconvert_exporter": "python",
   "pygments_lexer": "ipython3",
   "version": "3.12.7"
  }
 },
 "nbformat": 4,
 "nbformat_minor": 5
}
