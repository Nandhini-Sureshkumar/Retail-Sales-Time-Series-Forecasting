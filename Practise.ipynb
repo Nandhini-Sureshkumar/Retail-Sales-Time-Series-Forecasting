{
 "cells": [
  {
   "cell_type": "code",
   "execution_count": 22,
   "id": "8f7d15d6-6ae6-4fd2-875f-42cb6f9574b6",
   "metadata": {},
   "outputs": [],
   "source": [
    "nums =[1,2,3,4,5]"
   ]
  },
  {
   "cell_type": "code",
   "execution_count": 5,
   "id": "41fbf5bd-81a9-4120-b555-9d3b47345ca0",
   "metadata": {},
   "outputs": [
    {
     "name": "stdout",
     "output_type": "stream",
     "text": [
      "0 index and 1 number\n",
      "1 index and 2 number\n",
      "2 index and 3 number\n",
      "3 index and 4 number\n",
      "4 index and 5 number\n"
     ]
    }
   ],
   "source": [
    "for i,num in enumerate(l):\n",
    "    print('{} index and {} number'.format(i,num))"
   ]
  },
  {
   "cell_type": "code",
   "execution_count": 12,
   "id": "c9e17e88-5989-4202-a871-327d54441c91",
   "metadata": {},
   "outputs": [
    {
     "name": "stdout",
     "output_type": "stream",
     "text": [
      "[1, 4]\n",
      "[2, 3]\n",
      "[3, 2]\n",
      "[4, 1]\n"
     ]
    }
   ],
   "source": [
    "target = 7\n",
    "\n",
    "indeces = {}\n",
    "\n",
    "for i, num in enumerate(l):\n",
    "    indeces[num] = i\n",
    "\n",
    "for i,num in enumerate(l):\n",
    "    diff = target - num\n",
    "\n",
    "    if diff in indeces and indeces[diff]!=i:\n",
    "        print( [i,indeces[diff]])"
   ]
  },
  {
   "cell_type": "code",
   "execution_count": 11,
   "id": "01a40cf7-453c-40af-9b36-d9d412a3c25e",
   "metadata": {},
   "outputs": [
    {
     "name": "stdout",
     "output_type": "stream",
     "text": [
      "[1, 4]\n",
      "[2, 3]\n",
      "[3, 2]\n",
      "[4, 1]\n"
     ]
    }
   ],
   "source": [
    "indices = {}  # val -> index\n",
    "\n",
    "for i, n in enumerate(l):\n",
    "    indices[n] = i\n",
    "\n",
    "for i, n in enumerate(l):\n",
    "    diff = target - n\n",
    "    if diff in indices and indices[diff] != i:\n",
    "        print( [i, indices[diff]])"
   ]
  },
  {
   "cell_type": "code",
   "execution_count": 23,
   "id": "3adddc75-2879-45cb-9db9-6179951854ec",
   "metadata": {},
   "outputs": [],
   "source": [
    "target = 7"
   ]
  },
  {
   "cell_type": "code",
   "execution_count": 19,
   "id": "b7f0aebb-b0b6-4912-b2b5-1f7648aca7d4",
   "metadata": {},
   "outputs": [
    {
     "name": "stdout",
     "output_type": "stream",
     "text": [
      "[1, 4]\n",
      "[2, 3]\n"
     ]
    }
   ],
   "source": [
    "for i in range(0,len(nums)):\n",
    "    for j in range(i+1,len(nums)):\n",
    "        if nums[i] + nums[j] == target:\n",
    "            print( [i,j])"
   ]
  },
  {
   "cell_type": "code",
   "execution_count": 30,
   "id": "92116233-485e-4d3b-99a9-615e13e22555",
   "metadata": {},
   "outputs": [
    {
     "name": "stdout",
     "output_type": "stream",
     "text": [
      "[2, 3]\n",
      "[1, 4]\n"
     ]
    }
   ],
   "source": [
    "prevMap = {}\n",
    "\n",
    "for i, num in enumerate(nums):\n",
    "    diff = target - num\n",
    "    if diff in prevMap:\n",
    "        print([prevMap[diff],i])\n",
    "    prevMap[num] = i"
   ]
  },
  {
   "cell_type": "code",
   "execution_count": 32,
   "id": "a2e73b79-0d52-450e-bca2-fcec63afa3fa",
   "metadata": {},
   "outputs": [],
   "source": [
    "strs = [\"act\",\"pots\",\"tops\",\"cat\",\"stop\",\"hat\"]"
   ]
  },
  {
   "cell_type": "code",
   "execution_count": 46,
   "id": "94fc0efd-1a29-413b-ad2c-24558d6bdded",
   "metadata": {},
   "outputs": [
    {
     "name": "stdout",
     "output_type": "stream",
     "text": [
      "{'act': [], 'opst': [], 'aht': []}\n"
     ]
    }
   ],
   "source": [
    "ana = []\n",
    "for i,num in enumerate(strs):\n",
    "    if ''.join(sorted(num)) not in ana:\n",
    "        ana.append(''.join(sorted(num)))\n",
    "ana = {key: [] for key in ana}\n",
    "print(ana)            "
   ]
  },
  {
   "cell_type": "code",
   "execution_count": 48,
   "id": "22bb0abb-ece0-4251-8dac-6f97bcce1abc",
   "metadata": {},
   "outputs": [],
   "source": [
    "from collections import defaultdict"
   ]
  },
  {
   "cell_type": "code",
   "execution_count": 61,
   "id": "63d3676a-0e53-43aa-b602-4a1abcf36d2a",
   "metadata": {},
   "outputs": [
    {
     "name": "stdout",
     "output_type": "stream",
     "text": [
      "[['act', 'cat'], ['pots', 'tops', 'stop'], ['hat']]\n"
     ]
    }
   ],
   "source": [
    "ana = defaultdict(list)\n",
    "\n",
    "for value in strs:\n",
    "    temp_sorted = ''.join(sorted(value))\n",
    "    ana[temp_sorted].append(value)\n",
    "print(list(ana.values()))"
   ]
  },
  {
   "cell_type": "code",
   "execution_count": 71,
   "id": "f2226f04-48c9-411d-82ad-efe71ac59e42",
   "metadata": {},
   "outputs": [
    {
     "name": "stdout",
     "output_type": "stream",
     "text": [
      "(1, 0, 1, 0, 0, 0, 0, 0, 0, 0, 0, 0, 0, 0, 0, 0, 0, 0, 0, 1, 0, 0, 0, 0, 0, 0)\n",
      "(0, 0, 0, 0, 0, 0, 0, 0, 0, 0, 0, 0, 0, 0, 1, 1, 0, 0, 1, 1, 0, 0, 0, 0, 0, 0)\n",
      "(0, 0, 0, 0, 0, 0, 0, 0, 0, 0, 0, 0, 0, 0, 1, 1, 0, 0, 1, 1, 0, 0, 0, 0, 0, 0)\n",
      "(1, 0, 1, 0, 0, 0, 0, 0, 0, 0, 0, 0, 0, 0, 0, 0, 0, 0, 0, 1, 0, 0, 0, 0, 0, 0)\n",
      "(0, 0, 0, 0, 0, 0, 0, 0, 0, 0, 0, 0, 0, 0, 1, 1, 0, 0, 1, 1, 0, 0, 0, 0, 0, 0)\n",
      "(1, 0, 0, 0, 0, 0, 0, 1, 0, 0, 0, 0, 0, 0, 0, 0, 0, 0, 0, 1, 0, 0, 0, 0, 0, 0)\n"
     ]
    },
    {
     "data": {
      "text/plain": [
       "[['act', 'cat'], ['pots', 'tops', 'stop'], ['hat']]"
      ]
     },
     "execution_count": 71,
     "metadata": {},
     "output_type": "execute_result"
    }
   ],
   "source": [
    "ana = defaultdict(list)\n",
    "\n",
    "for value in strs:\n",
    "    count = [0] * 26\n",
    "    for c in value:\n",
    "        count[ord(c)-ord(\"a\") ]+=1\n",
    "        #print(count)\n",
    "    print(tuple(count))\n",
    "    ana[tuple(count)].append(value)\n",
    "\n",
    "list(ana.values())"
   ]
  },
  {
   "cell_type": "code",
   "execution_count": 80,
   "id": "1d86339d-6565-417d-bc7b-150bfde93c76",
   "metadata": {},
   "outputs": [
    {
     "name": "stdout",
     "output_type": "stream",
     "text": [
      "[2, 3]\n"
     ]
    }
   ],
   "source": [
    "nums = [1,2,2,3,3,3]\n",
    "k = 2\n",
    "l = []\n",
    "for value in set(nums):\n",
    "    temp = nums.count(value)\n",
    "    if temp>= k:\n",
    "        l.append(value)\n",
    "print(l)"
   ]
  },
  {
   "cell_type": "code",
   "execution_count": 88,
   "id": "3202e84d-a929-46e3-ade7-ac69b4a22e4f",
   "metadata": {},
   "outputs": [
    {
     "data": {
      "text/plain": [
       "[[1, 1], [2, 2], [3, 3]]"
      ]
     },
     "execution_count": 88,
     "metadata": {},
     "output_type": "execute_result"
    }
   ],
   "source": [
    "count = {}\n",
    "for num in nums:\n",
    "    count[num] = 1 + count.get(num, 0)\n",
    "\n"
   ]
  },
  {
   "cell_type": "code",
   "execution_count": 83,
   "id": "d0541af6-78c8-4ca4-9202-39b9f958043c",
   "metadata": {},
   "outputs": [
    {
     "data": {
      "text/plain": [
       "{1: 1, 2: 2, 3: 3}"
      ]
     },
     "execution_count": 83,
     "metadata": {},
     "output_type": "execute_result"
    }
   ],
   "source": [
    "count"
   ]
  },
  {
   "cell_type": "code",
   "execution_count": 104,
   "id": "00492434-3f5e-449c-855d-6a15a52c6125",
   "metadata": {},
   "outputs": [],
   "source": [
    "chk =  [1,2,2,3,3,3] #[1,2,3,4,1,2,4,5,3,4,5,2,3,4,5,6]"
   ]
  },
  {
   "cell_type": "code",
   "execution_count": 107,
   "id": "9c67269a-c9bd-4107-879c-5424edf019d9",
   "metadata": {},
   "outputs": [
    {
     "name": "stdout",
     "output_type": "stream",
     "text": [
      "[[1, 1], [2, 2], [3, 3]]\n",
      "0\n",
      "[3]\n",
      "1\n",
      "[3, 2]\n"
     ]
    },
    {
     "data": {
      "text/plain": [
       "[3, 2]"
      ]
     },
     "execution_count": 107,
     "metadata": {},
     "output_type": "execute_result"
    }
   ],
   "source": [
    "chck_dict = {}\n",
    "for num in chk:\n",
    "    chck_dict[num] = 1 + chck_dict.get(num,0)\n",
    "\n",
    "arr = []\n",
    "for key,value in chck_dict.items():\n",
    "    arr.append([key,value])\n",
    "print(arr)\n",
    "\n",
    "res = []\n",
    "while len(res) < k:\n",
    "    print(len(res))\n",
    "    res.append(arr.pop()[1])\n",
    "    print(res)\n",
    "res"
   ]
  },
  {
   "cell_type": "code",
   "execution_count": 96,
   "id": "b2ad4bfb-a7a1-48a5-8c8e-e3c55ca125e3",
   "metadata": {},
   "outputs": [
    {
     "data": {
      "text/plain": [
       "{7: 2}"
      ]
     },
     "execution_count": 96,
     "metadata": {},
     "output_type": "execute_result"
    }
   ],
   "source": [
    "chck_dict"
   ]
  },
  {
   "cell_type": "code",
   "execution_count": 98,
   "id": "dea4aafc-e150-4e4a-8d36-593ddf5c36d5",
   "metadata": {},
   "outputs": [
    {
     "data": {
      "text/plain": [
       "[]"
      ]
     },
     "execution_count": 98,
     "metadata": {},
     "output_type": "execute_result"
    }
   ],
   "source": [
    "arr"
   ]
  },
  {
   "cell_type": "code",
   "execution_count": 108,
   "id": "ebb75f5d-38af-4cdb-989f-86b00482023f",
   "metadata": {},
   "outputs": [
    {
     "data": {
      "text/plain": [
       "[[1, 1], [2, 2], [3, 3]]"
      ]
     },
     "execution_count": 108,
     "metadata": {},
     "output_type": "execute_result"
    }
   ],
   "source": [
    "arr = []\n",
    "for key,value in chck_dict.items():\n",
    "    arr.append([key,value])\n",
    "arr"
   ]
  },
  {
   "cell_type": "code",
   "execution_count": 109,
   "id": "bd5560ef-c9d6-4425-99cf-afb2c9dd0c11",
   "metadata": {},
   "outputs": [
    {
     "data": {
      "text/plain": [
       "[3, 3]"
      ]
     },
     "execution_count": 109,
     "metadata": {},
     "output_type": "execute_result"
    }
   ],
   "source": [
    "arr.pop()"
   ]
  },
  {
   "cell_type": "code",
   "execution_count": 121,
   "id": "180f7054-87f0-4201-bd3f-1f30bdb00d9d",
   "metadata": {},
   "outputs": [],
   "source": [
    "chk =  [1,2,2,3,3,3,4,4,4,4,4,4,4]"
   ]
  },
  {
   "cell_type": "code",
   "execution_count": 125,
   "id": "b34a53a2-938f-4588-8ad9-4788895fafec",
   "metadata": {},
   "outputs": [
    {
     "name": "stdout",
     "output_type": "stream",
     "text": [
      "[4, 3]\n"
     ]
    }
   ],
   "source": [
    "count = {}\n",
    "for value in chk:\n",
    "    count[value] = 1+count.get(value,0)\n",
    "\n",
    "freq = [[] for i in range(len(chk)+1)] \n",
    "res = []\n",
    "\n",
    "for n,c in count.items():\n",
    "    freq[c].append(n)\n",
    "freq\n",
    "\n",
    "for i in range(len(freq)-1,0,-1):\n",
    "    for n in freq[i]:\n",
    "        res.append(n)\n",
    "        if len(res) == k:\n",
    "            print(res)"
   ]
  },
  {
   "cell_type": "code",
   "execution_count": 116,
   "id": "033bc731-17fd-479c-bd9a-ac64b1670d61",
   "metadata": {},
   "outputs": [
    {
     "data": {
      "text/plain": [
       "{1: 1, 2: 2, 3: 3}"
      ]
     },
     "execution_count": 116,
     "metadata": {},
     "output_type": "execute_result"
    }
   ],
   "source": [
    "count"
   ]
  },
  {
   "cell_type": "code",
   "execution_count": 26,
   "id": "6be51917-5e3d-4fd4-8912-7725791d34f3",
   "metadata": {},
   "outputs": [],
   "source": [
    "def encode( strs) -> str:\n",
    "    temp = ''\n",
    "    for value in strs:\n",
    "        temp = temp+ str(len(value)) +'#' +str(value) \n",
    "    return temp\n",
    "\n",
    "def decode( s: str) :\n",
    "    i=0\n",
    "    temp = []\n",
    "    while i<len(s):\n",
    "        j = ''\n",
    "        while s[i] != '#':\n",
    "             j = str(j) + str(s[i])\n",
    "             i = i + 1\n",
    "        print(j)\n",
    "        temp.append(s[i+1:i+int(j)+1])\n",
    "        i = i+1+int(j) \n",
    "        print(i)\n",
    "    return temp\n",
    "    "
   ]
  },
  {
   "cell_type": "code",
   "execution_count": 27,
   "id": "0f663f5d-f9ab-4762-9501-9281cba86c52",
   "metadata": {},
   "outputs": [
    {
     "name": "stdout",
     "output_type": "stream",
     "text": [
      "4#1,234#45,65#7,8,9\n",
      "4\n",
      "6\n",
      "4\n",
      "12\n",
      "5\n",
      "19\n"
     ]
    },
    {
     "data": {
      "text/plain": [
       "['1,23', '45,6', '7,8,9']"
      ]
     },
     "execution_count": 27,
     "metadata": {},
     "output_type": "execute_result"
    }
   ],
   "source": [
    "x = encode([\"1,23\",\"45,6\",\"7,8,9\"])\n",
    "print(x)\n",
    "decode(x)"
   ]
  },
  {
   "cell_type": "code",
   "execution_count": 12,
   "id": "7f1ba167-fe99-4e1e-af49-c518ecc6d393",
   "metadata": {},
   "outputs": [
    {
     "data": {
      "text/plain": [
       "'4#1,234#45,65#7,8,9'"
      ]
     },
     "execution_count": 12,
     "metadata": {},
     "output_type": "execute_result"
    }
   ],
   "source": [
    "x"
   ]
  },
  {
   "cell_type": "code",
   "execution_count": 90,
   "id": "60c9edfe-204e-434e-aa5d-7c259f41e657",
   "metadata": {},
   "outputs": [
    {
     "data": {
      "text/plain": [
       "0"
      ]
     },
     "execution_count": 90,
     "metadata": {},
     "output_type": "execute_result"
    }
   ],
   "source": [
    "len(\"\")"
   ]
  },
  {
   "cell_type": "code",
   "execution_count": 14,
   "id": "5f5157b0-f799-4036-bb2d-382bba9b2a28",
   "metadata": {},
   "outputs": [
    {
     "data": {
      "text/plain": [
       "'abc'"
      ]
     },
     "execution_count": 14,
     "metadata": {},
     "output_type": "execute_result"
    }
   ],
   "source": [
    "x = 'abcd'\n",
    "x[0:3]"
   ]
  },
  {
   "cell_type": "code",
   "execution_count": 65,
   "id": "7969f021-6c5e-42b3-9d8b-37c24f729801",
   "metadata": {},
   "outputs": [],
   "source": [
    "nums = [4,3,2,8,6]"
   ]
  },
  {
   "cell_type": "code",
   "execution_count": 66,
   "id": "d0a6513f-2eed-4969-b58f-76b0f9a824bb",
   "metadata": {},
   "outputs": [
    {
     "data": {
      "text/plain": [
       "[4, 3, 2, 8, 6]"
      ]
     },
     "execution_count": 66,
     "metadata": {},
     "output_type": "execute_result"
    }
   ],
   "source": [
    "n = len(nums)\n",
    "res = [0] * n\n",
    "pref = [0] * n\n",
    "suff = [0] * n\n",
    "\n",
    "pref[0] = suff[n - 1] = 1\n",
    "for i in range(1, n):\n",
    "    pref[i] = nums[i - 1] * pref[i - 1]\n",
    "for i in range(n - 2, -1, -1):\n",
    "    suff[i] = nums[i + 1] * suff[i + 1]\n",
    "for i in range(n):\n",
    "    res[i] = pref[i] * suff[i] \n",
    "\n",
    "nums"
   ]
  },
  {
   "cell_type": "code",
   "execution_count": 67,
   "id": "9e4ce81f-bcd8-401e-a10f-7cfa50732bd4",
   "metadata": {},
   "outputs": [
    {
     "data": {
      "text/plain": [
       "[1, 4, 12, 24, 192]"
      ]
     },
     "execution_count": 67,
     "metadata": {},
     "output_type": "execute_result"
    }
   ],
   "source": [
    "pref"
   ]
  },
  {
   "cell_type": "code",
   "execution_count": 68,
   "id": "d5f576ec-8a5f-44c1-b590-30279d620cf2",
   "metadata": {},
   "outputs": [
    {
     "data": {
      "text/plain": [
       "[288, 96, 48, 6, 1]"
      ]
     },
     "execution_count": 68,
     "metadata": {},
     "output_type": "execute_result"
    }
   ],
   "source": [
    "suff"
   ]
  },
  {
   "cell_type": "code",
   "execution_count": 71,
   "id": "6932dcf7-966c-4b5e-8d05-3db065b7627d",
   "metadata": {},
   "outputs": [
    {
     "data": {
      "text/plain": [
       "[288, 384, 576, 144, 192]"
      ]
     },
     "execution_count": 71,
     "metadata": {},
     "output_type": "execute_result"
    }
   ],
   "source": [
    "res"
   ]
  },
  {
   "cell_type": "code",
   "execution_count": 76,
   "id": "abfc1b68-b1e1-4be7-84d1-eec9eb3d9ea2",
   "metadata": {},
   "outputs": [
    {
     "data": {
      "text/plain": [
       "[288, 384, 576, 144, 192]"
      ]
     },
     "execution_count": 76,
     "metadata": {},
     "output_type": "execute_result"
    }
   ],
   "source": [
    "l = len(nums)\n",
    "\n",
    "out = [1] * l\n",
    "\n",
    "prefix = 1\n",
    "for i in range(0,l):\n",
    "    out[i] = prefix\n",
    "    prefix *= nums[i]\n",
    "\n",
    "suffix =1\n",
    "for i in range(l-1,-1,-1):\n",
    "    out[i] *= suffix\n",
    "    suffix *= nums[i]\n",
    "\n",
    "out"
   ]
  },
  {
   "cell_type": "code",
   "execution_count": 124,
   "id": "d8ebbddc-1fac-4d74-93fb-ca9c52d3166b",
   "metadata": {},
   "outputs": [],
   "source": [
    "nums = [2,20,4,10,3,4,5]"
   ]
  },
  {
   "cell_type": "code",
   "execution_count": 127,
   "id": "a0fe044f-fb11-496a-a194-a66f7f69e026",
   "metadata": {},
   "outputs": [
    {
     "data": {
      "text/plain": [
       "4"
      ]
     },
     "execution_count": 127,
     "metadata": {},
     "output_type": "execute_result"
    }
   ],
   "source": [
    "l = list(set(nums))\n",
    "\n",
    "temp = [[] for e in range(len(l))]\n",
    "i=0\n",
    "for j in range(0,len(l)-1):\n",
    "    temp[i].append(l[j])\n",
    "    if abs(l[j] - l[j+1]) == 1:\n",
    "        temp[i].append(l[j+1])\n",
    "    else:\n",
    "        i+=1\n",
    "\n",
    "\n",
    "d = defaultdict(list)\n",
    "for value in temp:\n",
    "    d[len(set(value))] = list(set(value))\n",
    "        \n",
    "max(d.keys())"
   ]
  },
  {
   "cell_type": "code",
   "execution_count": 129,
   "id": "1f32357b-d4a8-4bde-89ec-074df48f7b31",
   "metadata": {},
   "outputs": [
    {
     "name": "stdout",
     "output_type": "stream",
     "text": [
      "4\n"
     ]
    }
   ],
   "source": [
    "l = set(nums)\n",
    "longest = 0\n",
    "for value in l:\n",
    "    if value-1 not in l:\n",
    "        length = 1\n",
    "        while value+length in l:\n",
    "            length+=1\n",
    "        longest = max(length,longest)\n",
    "print(longest)"
   ]
  },
  {
   "cell_type": "code",
   "execution_count": 130,
   "id": "e379fd39-c503-4993-81f0-ff8e39f6afc4",
   "metadata": {},
   "outputs": [
    {
     "data": {
      "text/plain": [
       "{2, 3, 4, 5, 10, 20}"
      ]
     },
     "execution_count": 130,
     "metadata": {},
     "output_type": "execute_result"
    }
   ],
   "source": [
    "l"
   ]
  },
  {
   "cell_type": "code",
   "execution_count": 115,
   "id": "2a815c24-e8d7-476e-8ea0-340652c4b3b3",
   "metadata": {},
   "outputs": [
    {
     "data": {
      "text/plain": [
       "[0]"
      ]
     },
     "execution_count": 115,
     "metadata": {},
     "output_type": "execute_result"
    }
   ],
   "source": [
    "l"
   ]
  },
  {
   "cell_type": "code",
   "execution_count": 121,
   "id": "3a77f94f-1f9f-4dff-8de5-47b55aa5e385",
   "metadata": {},
   "outputs": [
    {
     "data": {
      "text/plain": [
       "1"
      ]
     },
     "execution_count": 121,
     "metadata": {},
     "output_type": "execute_result"
    }
   ],
   "source": [
    "len(l)"
   ]
  },
  {
   "cell_type": "code",
   "execution_count": 120,
   "id": "34d674c3-628f-4c50-a259-8695c4a5708d",
   "metadata": {},
   "outputs": [
    {
     "data": {
      "text/plain": [
       "[[], []]"
      ]
     },
     "execution_count": 120,
     "metadata": {},
     "output_type": "execute_result"
    }
   ],
   "source": [
    "[[] for e in range(1)]"
   ]
  },
  {
   "cell_type": "code",
   "execution_count": 138,
   "id": "b201cd6b-52d6-4d2d-8299-150f920f7c50",
   "metadata": {},
   "outputs": [],
   "source": [
    "import re"
   ]
  },
  {
   "cell_type": "code",
   "execution_count": 147,
   "id": "a07229f3-74ef-47a8-bb7e-273e124af06c",
   "metadata": {},
   "outputs": [],
   "source": [
    "s = \"Was it a car or a cat I saw?\""
   ]
  },
  {
   "cell_type": "code",
   "execution_count": 150,
   "id": "2f12b0c7-f6e7-4ad7-aeb1-8ed550c13a1e",
   "metadata": {},
   "outputs": [
    {
     "data": {
      "text/plain": [
       "True"
      ]
     },
     "execution_count": 150,
     "metadata": {},
     "output_type": "execute_result"
    }
   ],
   "source": [
    "temp = ''\n",
    "for i in range(0,len(s)):\n",
    "    if re.match(r'^[a-zA-Z0-9]', s[i]):\n",
    "        temp+=s[i].lower()\n",
    "output = False\n",
    "if temp == temp[::-1]:\n",
    "    output = True       \n",
    "output"
   ]
  },
  {
   "cell_type": "code",
   "execution_count": 151,
   "id": "1318a382-fccd-449e-8c29-c1f03326ebe9",
   "metadata": {},
   "outputs": [
    {
     "data": {
      "text/plain": [
       "'wasitacaroracatisaw'"
      ]
     },
     "execution_count": 151,
     "metadata": {},
     "output_type": "execute_result"
    }
   ],
   "source": [
    "temp"
   ]
  },
  {
   "cell_type": "code",
   "execution_count": 154,
   "id": "f0fdf930-9117-46a8-9fbf-4e67db10e0ee",
   "metadata": {},
   "outputs": [
    {
     "data": {
      "text/plain": [
       "True"
      ]
     },
     "execution_count": 154,
     "metadata": {},
     "output_type": "execute_result"
    }
   ],
   "source": [
    "temp = ''\n",
    "li = [''] * len(s)\n",
    "li_rev = ['']* len(s)\n",
    "for i in range(0,len(s)):\n",
    "    if re.match(r'^[a-zA-Z0-9]', s[i]):\n",
    "        li[i] = s[i].lower()\n",
    "        li_rev[-1-i] = s[i].lower()\n",
    "       \n",
    "return ''.join(li) == ''.join(li_rev)"
   ]
  },
  {
   "cell_type": "code",
   "execution_count": 152,
   "id": "e33266e1-7773-4562-888b-1ba2d1444547",
   "metadata": {},
   "outputs": [
    {
     "data": {
      "text/plain": [
       "['W',\n",
       " 'a',\n",
       " 's',\n",
       " ' ',\n",
       " 'i',\n",
       " 't',\n",
       " ' ',\n",
       " 'a',\n",
       " ' ',\n",
       " 'c',\n",
       " 'a',\n",
       " 'r',\n",
       " ' ',\n",
       " 'o',\n",
       " 'r',\n",
       " ' ',\n",
       " 'a',\n",
       " ' ',\n",
       " 'c',\n",
       " 'a',\n",
       " 't',\n",
       " ' ',\n",
       " 'I',\n",
       " ' ',\n",
       " 's',\n",
       " 'a',\n",
       " 'w',\n",
       " '?']"
      ]
     },
     "execution_count": 152,
     "metadata": {},
     "output_type": "execute_result"
    }
   ],
   "source": [
    "list(s)"
   ]
  },
  {
   "cell_type": "code",
   "execution_count": 172,
   "id": "49368d5f-c257-4d04-929c-a213e239f4f8",
   "metadata": {},
   "outputs": [
    {
     "data": {
      "text/plain": [
       "[[-1, 0, 1], [-1, -1, 2]]"
      ]
     },
     "execution_count": 172,
     "metadata": {},
     "output_type": "execute_result"
    }
   ],
   "source": [
    "nums = [-1,0,1,2,-1,-4]\n",
    "temp = set()\n",
    "nums.sort()\n",
    "\n",
    "for i in range(0,len(nums)):\n",
    "    for j in range(i+1,len(nums)):\n",
    "        for k in range(j+1,len(nums)):\n",
    "            if nums[i]+nums[j]+nums[k] == 0:\n",
    "                temp.add(tuple([nums[i],nums[j],nums[k]]))\n",
    "\n",
    "[list(i) for i in temp]"
   ]
  },
  {
   "cell_type": "code",
   "execution_count": 164,
   "id": "bed86cc3-ea12-4c24-ad53-3c6952e298ed",
   "metadata": {},
   "outputs": [
    {
     "data": {
      "text/plain": [
       "[-1, 0, 1]"
      ]
     },
     "execution_count": 164,
     "metadata": {},
     "output_type": "execute_result"
    }
   ],
   "source": [
    "set_1"
   ]
  },
  {
   "cell_type": "code",
   "execution_count": 167,
   "id": "38ecc3dd-c63b-4268-a620-b39349088ef8",
   "metadata": {},
   "outputs": [
    {
     "data": {
      "text/plain": [
       "{(-1, -1, 2), (-1, 0, 1)}"
      ]
     },
     "execution_count": 167,
     "metadata": {},
     "output_type": "execute_result"
    }
   ],
   "source": [
    "temp"
   ]
  },
  {
   "cell_type": "markdown",
   "id": "cdbd3136-5cf8-4a22-9230-66d898cccf6d",
   "metadata": {},
   "source": [
    "# TWo Integer Sum"
   ]
  },
  {
   "cell_type": "code",
   "execution_count": 2,
   "id": "47332822-0827-4e0d-a0c5-f0ec73aaddcb",
   "metadata": {},
   "outputs": [],
   "source": [
    "numbers = [1,2,3,4]\n",
    "target = 3"
   ]
  },
  {
   "cell_type": "code",
   "execution_count": 3,
   "id": "67fa21c6-c174-479a-8022-638d7cc8ea67",
   "metadata": {},
   "outputs": [
    {
     "name": "stdout",
     "output_type": "stream",
     "text": [
      "[1, 2]\n"
     ]
    }
   ],
   "source": [
    "numbers.sort()\n",
    "res = []\n",
    "l, r = 0, len(numbers)-1\n",
    "\n",
    "while l<r:\n",
    "    curr_sum = numbers[l] +numbers[r] \n",
    "    if curr_sum<target:\n",
    "        l+=1\n",
    "    elif curr_sum>target:\n",
    "        r-=1\n",
    "    else:\n",
    "        print( [l+1,r+1])\n",
    "        l+=1\n"
   ]
  },
  {
   "cell_type": "markdown",
   "id": "7f53dad1-fe21-46fa-a63f-ddeba1ce5a07",
   "metadata": {},
   "source": [
    "# 3 Integer Sum"
   ]
  },
  {
   "cell_type": "code",
   "execution_count": 22,
   "id": "8169699a-147f-4cfb-89a7-7f2033332ab5",
   "metadata": {},
   "outputs": [],
   "source": [
    "nums = nums=[-1,0,1,2,-1,-4,-2,-3,3,0,4]\n",
    "target = 0"
   ]
  },
  {
   "cell_type": "code",
   "execution_count": 27,
   "id": "45352ede-5aa8-4268-b8c6-c4d485e651d2",
   "metadata": {},
   "outputs": [
    {
     "data": {
      "text/plain": [
       "[[-4, 0, 4],\n",
       " [-4, 1, 3],\n",
       " [-3, -1, 4],\n",
       " [-3, 0, 3],\n",
       " [-3, 1, 2],\n",
       " [-2, -1, 3],\n",
       " [-2, 0, 2],\n",
       " [-1, -1, 2],\n",
       " [-1, 0, 1]]"
      ]
     },
     "execution_count": 27,
     "metadata": {},
     "output_type": "execute_result"
    }
   ],
   "source": [
    "res = []\n",
    "\n",
    "nums.sort()\n",
    "\n",
    "\n",
    "for i,a in enumerate(nums):\n",
    "    l, r = i+1,len(nums)-1\n",
    "    if i>0 and nums[i-1] == a:\n",
    "        continue\n",
    "    while l<r:\n",
    "        curr_sum = a + nums[l] + nums[r]\n",
    "        if curr_sum < target:\n",
    "            l+=1\n",
    "        elif curr_sum > target:\n",
    "            r-=1\n",
    "        else:\n",
    "            res.append([a,nums[l],nums[r]])\n",
    "            l+=1\n",
    "            while nums[l] == nums[l-1] and l<r:\n",
    "                l+=1\n",
    "res"
   ]
  },
  {
   "cell_type": "code",
   "execution_count": 11,
   "id": "f6d58928-3128-4271-bbae-f7be964c12c2",
   "metadata": {},
   "outputs": [
    {
     "data": {
      "text/plain": [
       "5"
      ]
     },
     "execution_count": 11,
     "metadata": {},
     "output_type": "execute_result"
    }
   ],
   "source": [
    "l"
   ]
  },
  {
   "cell_type": "code",
   "execution_count": 12,
   "id": "266f80be-3849-4027-81e9-108b9a8ed55d",
   "metadata": {},
   "outputs": [
    {
     "data": {
      "text/plain": [
       "5"
      ]
     },
     "execution_count": 12,
     "metadata": {},
     "output_type": "execute_result"
    }
   ],
   "source": [
    "r"
   ]
  },
  {
   "cell_type": "markdown",
   "id": "57ecf07a-4248-4843-8ffc-ba53ffed182d",
   "metadata": {},
   "source": [
    "# Container With Most Water"
   ]
  },
  {
   "cell_type": "markdown",
   "id": "d0d4f5ef-d6d4-4102-af49-ea2b992bdad8",
   "metadata": {},
   "source": [
    "# Container With Most Water"
   ]
  },
  {
   "cell_type": "code",
   "execution_count": 52,
   "id": "27411e97-f129-4bc6-8e17-7fdcb7e72e2b",
   "metadata": {},
   "outputs": [],
   "source": [
    "heights = [1,7,2,5,4,7,3,6]"
   ]
  },
  {
   "cell_type": "code",
   "execution_count": 49,
   "id": "c27ec5a6-71c6-4edd-a690-379b436cebb9",
   "metadata": {},
   "outputs": [
    {
     "data": {
      "text/plain": [
       "500"
      ]
     },
     "execution_count": 49,
     "metadata": {},
     "output_type": "execute_result"
    }
   ],
   "source": [
    "length = len(heights)\n",
    "\n",
    "\n",
    "temp = [0] * length\n",
    "\n",
    "for i,a in enumerate(heights):\n",
    "    r =  length -1\n",
    "\n",
    "    if a <= heights[r]:\n",
    "        temp[i] = a * (r-i)\n",
    "        continue\n",
    "    if a>heights[r]:\n",
    "        deepth = heights[r] * (r-i)\n",
    "        temp2 = 0\n",
    "        while i<r:\n",
    "            r-=1\n",
    "            if a <= heights[r]:\n",
    "                temp2 = a * (r-i)\n",
    "            else:\n",
    "                temp2 = heights[r] * (r-i)\n",
    "            deepth = max( deepth, temp2)\n",
    "        temp[i] = deepth   \n",
    "max(temp)"
   ]
  },
  {
   "cell_type": "code",
   "execution_count": 50,
   "id": "63a0ea0e-d68c-412e-9763-3c9dfebd3069",
   "metadata": {},
   "outputs": [
    {
     "data": {
      "text/plain": [
       "[13, 72, 22, 50, 54, 24, 500, 36, 30, 24, 12, 12, 3, 0]"
      ]
     },
     "execution_count": 50,
     "metadata": {},
     "output_type": "execute_result"
    }
   ],
   "source": [
    "temp"
   ]
  },
  {
   "cell_type": "code",
   "execution_count": 56,
   "id": "e5510703-3a38-452d-bc0c-25b2d0786a9b",
   "metadata": {},
   "outputs": [
    {
     "data": {
      "text/plain": [
       "36"
      ]
     },
     "execution_count": 56,
     "metadata": {},
     "output_type": "execute_result"
    }
   ],
   "source": [
    "res = 0\n",
    "\n",
    "l,r = 0,len(heights)-1\n",
    "\n",
    "\n",
    "while l<r:\n",
    "    area = min(heights[l],heights[r]) * (r-l)\n",
    "    res = max(area , res)\n",
    "    if heights[l] < heights[r]:\n",
    "        l+=1\n",
    "    else:\n",
    "        r-=1\n",
    "res"
   ]
  },
  {
   "cell_type": "code",
   "execution_count": 57,
   "id": "6fcbc0c1-f72c-44c9-b420-7ebcb9a7c385",
   "metadata": {},
   "outputs": [
    {
     "data": {
      "text/plain": [
       "2"
      ]
     },
     "execution_count": 57,
     "metadata": {},
     "output_type": "execute_result"
    }
   ],
   "source": [
    "min(heights[1:5])"
   ]
  },
  {
   "cell_type": "markdown",
   "id": "e2d99459-5c23-4a84-a24e-f5c71068cbec",
   "metadata": {},
   "source": [
    "# Best Time to Buy and Sell Stock"
   ]
  },
  {
   "cell_type": "code",
   "execution_count": 61,
   "id": "ffd57d8f-9cf1-46fc-8ed0-71932b0fbadd",
   "metadata": {},
   "outputs": [],
   "source": [
    "prices = [10,1,20,6,7,1]"
   ]
  },
  {
   "cell_type": "code",
   "execution_count": 62,
   "id": "b827e39d-0a68-4fc3-a149-202f9b6b16df",
   "metadata": {},
   "outputs": [
    {
     "data": {
      "text/plain": [
       "19"
      ]
     },
     "execution_count": 62,
     "metadata": {},
     "output_type": "execute_result"
    }
   ],
   "source": [
    "profit = 0\n",
    "l,r = 0, len(prices)-1\n",
    "\n",
    "while l<r:\n",
    "    if prices[l]> max(prices[l+1:r+1]):\n",
    "        l+=1\n",
    "        continue\n",
    "    diff = max(prices[l+1:r+1]) - prices[l]\n",
    "    profit = max(profit , diff)\n",
    "    l+=1\n",
    "profit"
   ]
  },
  {
   "cell_type": "code",
   "execution_count": 63,
   "id": "3a44ac73-d2f5-4401-84a4-97be9c4e8972",
   "metadata": {},
   "outputs": [
    {
     "data": {
      "text/plain": [
       "19"
      ]
     },
     "execution_count": 63,
     "metadata": {},
     "output_type": "execute_result"
    }
   ],
   "source": [
    "profit = 0\n",
    "l, r = 0,1\n",
    "\n",
    "while r<len(prices):\n",
    "    if(prices[l]<prices[r]):\n",
    "        profit = max(prices[r]-prices[l] , profit)\n",
    "    else:\n",
    "        l =r\n",
    "    r+=1\n",
    "profit"
   ]
  },
  {
   "cell_type": "code",
   "execution_count": 64,
   "id": "d5f34444-6c11-4298-9475-17fb31e62622",
   "metadata": {},
   "outputs": [
    {
     "data": {
      "text/plain": [
       "19"
      ]
     },
     "execution_count": 64,
     "metadata": {},
     "output_type": "execute_result"
    }
   ],
   "source": [
    "profit = 0\n",
    "minBuy = prices[0]\n",
    "for sell in prices:\n",
    "    profit = max(profit, sell-minBuy)\n",
    "    minBuy = min(minBuy,sell)\n",
    "profit"
   ]
  },
  {
   "cell_type": "markdown",
   "id": "e2347534-5726-41a3-a53c-45c5b81ddc25",
   "metadata": {},
   "source": [
    "# Longest Substring Without Repeating Characters"
   ]
  },
  {
   "cell_type": "code",
   "execution_count": 29,
   "id": "0dedf4a2-3568-4b62-b168-169979989a4d",
   "metadata": {},
   "outputs": [],
   "source": [
    "s = \"pwwkew\""
   ]
  },
  {
   "cell_type": "code",
   "execution_count": 32,
   "id": "6fbbbb4b-cb0f-432e-9ce3-0325912d652b",
   "metadata": {},
   "outputs": [],
   "source": [
    "charSet = set()\n",
    "res = 0\n",
    "l = 0\n",
    "\n",
    "for r in range(len(s)):\n",
    "    while s[r] in charSet:\n",
    "        charSet.remove(s[l])\n",
    "        l+=1\n",
    "    charSet.add(s[r])\n",
    "    res = max(res, r-l+1)"
   ]
  },
  {
   "cell_type": "code",
   "execution_count": 33,
   "id": "78eedc16-2c1b-47d2-8f74-aefa9307cf24",
   "metadata": {},
   "outputs": [
    {
     "data": {
      "text/plain": [
       "0"
      ]
     },
     "execution_count": 33,
     "metadata": {},
     "output_type": "execute_result"
    }
   ],
   "source": [
    "output"
   ]
  },
  {
   "cell_type": "code",
   "execution_count": 34,
   "id": "af7f01f0-1b64-47a7-9458-3888008621b2",
   "metadata": {},
   "outputs": [
    {
     "data": {
      "text/plain": [
       "3"
      ]
     },
     "execution_count": 34,
     "metadata": {},
     "output_type": "execute_result"
    }
   ],
   "source": [
    "res"
   ]
  },
  {
   "cell_type": "code",
   "execution_count": 31,
   "id": "e0ecdedf-426d-49ef-8251-5585cee5b378",
   "metadata": {},
   "outputs": [
    {
     "name": "stdout",
     "output_type": "stream",
     "text": [
      "set()\n",
      "{'p'}\n",
      "{'p'}\n",
      "{'p', 'w'}\n",
      "set()\n",
      "{'w'}\n",
      "{'w'}\n",
      "{'w', 'k'}\n",
      "{'w', 'k'}\n",
      "{'w', 'e', 'k'}\n",
      "{'e', 'k'}\n",
      "{'w', 'e', 'k'}\n"
     ]
    },
    {
     "data": {
      "text/plain": [
       "3"
      ]
     },
     "execution_count": 31,
     "metadata": {},
     "output_type": "execute_result"
    }
   ],
   "source": [
    "l= 0\n",
    "charSet = set()\n",
    "res = 0\n",
    "\n",
    "for r in range(len(s)):\n",
    "    while s[r] in charSet:\n",
    "        charSet.remove(s[l])\n",
    "        l+=1\n",
    "    print(charSet)\n",
    "    charSet.add(s[r])\n",
    "    print(charSet)\n",
    "    res = max(res, r-l+1)\n",
    "res"
   ]
  },
  {
   "cell_type": "code",
   "execution_count": 28,
   "id": "eb4fda9e-a117-4ae6-a921-2e403aa27964",
   "metadata": {},
   "outputs": [
    {
     "data": {
      "text/plain": [
       "{'b'}"
      ]
     },
     "execution_count": 28,
     "metadata": {},
     "output_type": "execute_result"
    }
   ],
   "source": [
    "out"
   ]
  },
  {
   "cell_type": "code",
   "execution_count": 35,
   "id": "95c786fe-e5d7-4d3b-aa62-03da1c2d9a41",
   "metadata": {},
   "outputs": [
    {
     "data": {
      "text/plain": [
       "3"
      ]
     },
     "execution_count": 35,
     "metadata": {},
     "output_type": "execute_result"
    }
   ],
   "source": [
    "mp = {}\n",
    "l = 0\n",
    "res = 0\n",
    "\n",
    "for r in range(len(s)):\n",
    "    if s[r] in mp:\n",
    "        l = max(mp[s[r]] + 1, l)\n",
    "    mp[s[r]] = r\n",
    "    res = max(res, r - l + 1)\n",
    "res"
   ]
  },
  {
   "cell_type": "code",
   "execution_count": 36,
   "id": "7706e3eb-bddb-40ae-9ee4-49c36daf8caa",
   "metadata": {},
   "outputs": [
    {
     "data": {
      "text/plain": [
       "{'p': 0, 'w': 5, 'k': 3, 'e': 4}"
      ]
     },
     "execution_count": 36,
     "metadata": {},
     "output_type": "execute_result"
    }
   ],
   "source": [
    "mp"
   ]
  },
  {
   "cell_type": "markdown",
   "id": "2b8dcac9-1165-4a2f-b3f7-c0f1abb28a2c",
   "metadata": {},
   "source": [
    "# Longest Repeating Character Replacement"
   ]
  },
  {
   "cell_type": "code",
   "execution_count": 92,
   "id": "d68d7a1a-e2f0-4115-8a01-c186857fef81",
   "metadata": {},
   "outputs": [],
   "source": [
    "s = 'ABAA'\n",
    "k=0"
   ]
  },
  {
   "cell_type": "code",
   "execution_count": 80,
   "id": "41b2e70e-f19a-488e-85dc-b470be165214",
   "metadata": {},
   "outputs": [
    {
     "data": {
      "text/plain": [
       "{'A': 4, 'B': 3}"
      ]
     },
     "execution_count": 80,
     "metadata": {},
     "output_type": "execute_result"
    }
   ],
   "source": [
    "charSet = set(s)\n",
    "d = {e:s.count(e) for e in charSet}\n",
    "d\n",
    "    "
   ]
  },
  {
   "cell_type": "code",
   "execution_count": 81,
   "id": "90061674-ef21-42f5-9cd8-bc01885020ce",
   "metadata": {},
   "outputs": [
    {
     "data": {
      "text/plain": [
       "{'A': 0, 'B': 0}"
      ]
     },
     "execution_count": 81,
     "metadata": {},
     "output_type": "execute_result"
    }
   ],
   "source": [
    "charSet = set(s)\n",
    "d = {e:0 for e in charSet}\n",
    "d"
   ]
  },
  {
   "cell_type": "code",
   "execution_count": 82,
   "id": "70688f05-ab66-407f-b5aa-136e7c23cd8b",
   "metadata": {},
   "outputs": [
    {
     "data": {
      "text/plain": [
       "{'A', 'B'}"
      ]
     },
     "execution_count": 82,
     "metadata": {},
     "output_type": "execute_result"
    }
   ],
   "source": [
    "charSet"
   ]
  },
  {
   "cell_type": "code",
   "execution_count": 100,
   "id": "5a296f68-9a2b-4b44-be93-c4a4ae1415e0",
   "metadata": {},
   "outputs": [
    {
     "data": {
      "text/plain": [
       "2"
      ]
     },
     "execution_count": 100,
     "metadata": {},
     "output_type": "execute_result"
    }
   ],
   "source": [
    "d = {}\n",
    "l = 0\n",
    "res = 0\n",
    "for r in range(0,len(s)):\n",
    "    d[s[r]]= 1+ d.get(s[r],0)\n",
    "    while (r-l)+1 - max(d.values()) > k:\n",
    "        d[s[l]]-=1\n",
    "        l+=1\n",
    "        \n",
    "    res = max(res,  (r-l)+1)\n",
    "        \n",
    "res\n",
    "        \n",
    "        \n",
    "    "
   ]
  },
  {
   "cell_type": "code",
   "execution_count": 99,
   "id": "84628e6a-839c-4b00-822c-92337f0878da",
   "metadata": {},
   "outputs": [
    {
     "data": {
      "text/plain": [
       "dict_values([3, 0])"
      ]
     },
     "execution_count": 99,
     "metadata": {},
     "output_type": "execute_result"
    }
   ],
   "source": [
    "d.values()"
   ]
  },
  {
   "cell_type": "code",
   "execution_count": 102,
   "id": "5b8d00e1-053f-4dde-8a85-2db69b48284a",
   "metadata": {},
   "outputs": [
    {
     "data": {
      "text/plain": [
       "2"
      ]
     },
     "execution_count": 102,
     "metadata": {},
     "output_type": "execute_result"
    }
   ],
   "source": [
    "d = {}\n",
    "l = 0\n",
    "res = 0\n",
    "maxV = 0\n",
    "for r in range(0,len(s)):\n",
    "    d[s[r]]= 1+ d.get(s[r],0)\n",
    "    maxV = max(maxV, max(d.values())) # reduced the looping here to adjust with max\n",
    "    while (r-l)+1 - maxV > k:\n",
    "        d[s[l]]-=1\n",
    "        l+=1\n",
    "        \n",
    "    res = max(res,  (r-l)+1)\n",
    "        \n",
    "res\n",
    "        \n",
    "        \n",
    "    "
   ]
  },
  {
   "cell_type": "code",
   "execution_count": 115,
   "id": "790e8824-651d-449b-a373-9480e21b6d3f",
   "metadata": {},
   "outputs": [
    {
     "data": {
      "text/plain": [
       "{'X', 'Y', 'Z'}"
      ]
     },
     "execution_count": 115,
     "metadata": {},
     "output_type": "execute_result"
    }
   ],
   "source": [
    "set('XYZ')"
   ]
  },
  {
   "cell_type": "code",
   "execution_count": 120,
   "id": "62c4c8c0-db7d-48c2-86d4-ad08c368bfa3",
   "metadata": {},
   "outputs": [
    {
     "data": {
      "text/plain": [
       "False"
      ]
     },
     "execution_count": 120,
     "metadata": {},
     "output_type": "execute_result"
    }
   ],
   "source": [
    "[1,0]"
   ]
  },
  {
   "cell_type": "code",
   "execution_count": 222,
   "id": "981e37eb-e6c4-4afb-a183-635b7987ad1b",
   "metadata": {},
   "outputs": [
    {
     "data": {
      "text/plain": [
       "'abbbbbcdd'"
      ]
     },
     "execution_count": 222,
     "metadata": {},
     "output_type": "execute_result"
    }
   ],
   "source": [
    "s= \"aaaaaaaaaaaabbbbbcdd\"\n",
    "t=\"abcdd\"\n",
    "out = ''\n",
    "have = {e:t.count(e) for e in t}\n",
    "for l in range(len(s)):\n",
    "    r = l\n",
    "    temp = ''\n",
    "    c= {e:0 for e in t}\n",
    "    if s[r] in t:\n",
    "        while r<len(s):\n",
    "            temp+=s[r]\n",
    "            if s[r] in t:\n",
    "                c[s[r]]+=1\n",
    "            r+=1\n",
    "            if c.keys() == have.keys() and all(c[e] >= have[e] for e in have):\n",
    "                break\n",
    "            \n",
    "    if 0 not in c.values() and len(t)<=len(temp):\n",
    "        if len(temp)<len(out) or out == '':\n",
    "            if c.keys() == have.keys() and all(c[e] >= have[e] for e in have):\n",
    "                out = temp\n",
    "out\n",
    "    \n",
    "    "
   ]
  },
  {
   "cell_type": "code",
   "execution_count": 215,
   "id": "bf02df0c-e2c2-4eaf-b09f-31c8190f505c",
   "metadata": {},
   "outputs": [
    {
     "data": {
      "text/plain": [
       "{'b': 1, 'a': 0}"
      ]
     },
     "execution_count": 215,
     "metadata": {},
     "output_type": "execute_result"
    }
   ],
   "source": [
    "c"
   ]
  },
  {
   "cell_type": "code",
   "execution_count": 202,
   "id": "ff2741a4-1209-460a-9012-6daa92a013a0",
   "metadata": {},
   "outputs": [
    {
     "data": {
      "text/plain": [
       "''"
      ]
     },
     "execution_count": 202,
     "metadata": {},
     "output_type": "execute_result"
    }
   ],
   "source": [
    "out"
   ]
  },
  {
   "cell_type": "code",
   "execution_count": 208,
   "id": "b736f2fa-0899-4b4b-b64f-0cbb48d3c9f6",
   "metadata": {},
   "outputs": [
    {
     "data": {
      "text/plain": [
       "{'a': 1, 'b': 1, 'c': 1, 'd': 2}"
      ]
     },
     "execution_count": 208,
     "metadata": {},
     "output_type": "execute_result"
    }
   ],
   "source": [
    "have"
   ]
  },
  {
   "cell_type": "code",
   "execution_count": 204,
   "id": "0fca6ba3-b28c-4229-9885-db134c27f1d5",
   "metadata": {},
   "outputs": [
    {
     "data": {
      "text/plain": [
       "'d'"
      ]
     },
     "execution_count": 204,
     "metadata": {},
     "output_type": "execute_result"
    }
   ],
   "source": [
    "temp"
   ]
  },
  {
   "cell_type": "markdown",
   "id": "7239b206-4dbf-4eab-84a9-46f75d577ba3",
   "metadata": {},
   "source": [
    "# Valid Parentheses"
   ]
  },
  {
   "cell_type": "code",
   "execution_count": 281,
   "id": "0d1a2a6a-4e2c-463c-bd78-fd8beaf6f702",
   "metadata": {},
   "outputs": [],
   "source": [
    "s = \"()]\"\n"
   ]
  },
  {
   "cell_type": "code",
   "execution_count": 282,
   "id": "922e17f3-3a6c-4673-af1d-61e30ed6f736",
   "metadata": {},
   "outputs": [
    {
     "name": "stdout",
     "output_type": "stream",
     "text": [
      "False\n",
      "True\n"
     ]
    }
   ],
   "source": [
    "\n",
    "d = {'}':'{',')':'(',']':'['}\n",
    "temp = []\n",
    "for l in s:\n",
    "    if l in d:\n",
    "        if temp and  temp[-1] == d[l]:\n",
    "            temp.pop()\n",
    "        else:\n",
    "            print(False)\n",
    "    else:\n",
    "        temp.append(l)\n",
    "            \n",
    "if not temp:\n",
    "    print(True)\n",
    "else:\n",
    "    print(False)"
   ]
  },
  {
   "cell_type": "code",
   "execution_count": 275,
   "id": "24377afd-177c-431e-a233-b39ef81f38ee",
   "metadata": {},
   "outputs": [
    {
     "data": {
      "text/plain": [
       "[]"
      ]
     },
     "execution_count": 275,
     "metadata": {},
     "output_type": "execute_result"
    }
   ],
   "source": [
    "temp"
   ]
  },
  {
   "cell_type": "code",
   "execution_count": 290,
   "id": "02c21cc1-6b9a-4ac8-b9b5-9b92931db15f",
   "metadata": {},
   "outputs": [
    {
     "name": "stdout",
     "output_type": "stream",
     "text": [
      "1\n"
     ]
    }
   ],
   "source": [
    "\n",
    "if [] :\n",
    "    print(1)"
   ]
  },
  {
   "cell_type": "markdown",
   "id": "e8037320-42dc-4e0d-8d8e-3864d98667a7",
   "metadata": {},
   "source": [
    "# Find Minimum in Rotated Sorted Array"
   ]
  },
  {
   "cell_type": "code",
   "execution_count": 308,
   "id": "d184b60d-bbe1-4f7c-bf3e-f4f763801f53",
   "metadata": {},
   "outputs": [],
   "source": [
    "nums = [3,4,5,1,2]"
   ]
  },
  {
   "cell_type": "code",
   "execution_count": 315,
   "id": "f92245ec-0649-4b7a-ac27-c102fb157c6c",
   "metadata": {},
   "outputs": [
    {
     "name": "stdout",
     "output_type": "stream",
     "text": [
      "3_4\n",
      "3\n"
     ]
    },
    {
     "data": {
      "text/plain": [
       "1"
      ]
     },
     "execution_count": 315,
     "metadata": {},
     "output_type": "execute_result"
    }
   ],
   "source": [
    "l, r = 0, len(nums)-1\n",
    "res = nums[0]\n",
    "while l<=r:\n",
    "    if nums[l] < nums[r]:\n",
    "        print(res)\n",
    "        res = min(res, nums[l])\n",
    "        break\n",
    "    m = (r+l)//2\n",
    "    res = min(res,nums[m])\n",
    "    if nums[m]>=nums[l]:\n",
    "        l = m+1\n",
    "    else:\n",
    "        r = m-1\n",
    "    print('{}_{}'.format(l,r))\n",
    "res"
   ]
  },
  {
   "cell_type": "markdown",
   "id": "96a82b47-84fd-4a54-85d7-7b8028bf4644",
   "metadata": {},
   "source": [
    "# Search in Rotated Sorted Array"
   ]
  },
  {
   "cell_type": "code",
   "execution_count": 412,
   "id": "749a965b-1077-40cb-b1f8-cf47c4a97646",
   "metadata": {},
   "outputs": [],
   "source": [
    "nums = [3,4,5,6,1,2]\n",
    "target = 1"
   ]
  },
  {
   "cell_type": "code",
   "execution_count": 413,
   "id": "38808bd2-1b74-4af3-904a-446ae0e5cfc3",
   "metadata": {},
   "outputs": [
    {
     "name": "stdout",
     "output_type": "stream",
     "text": [
      "3_5_2\n"
     ]
    },
    {
     "data": {
      "text/plain": [
       "4"
      ]
     },
     "execution_count": 413,
     "metadata": {},
     "output_type": "execute_result"
    }
   ],
   "source": [
    "l,r = 0,len(nums)-1\n",
    "res = -1\n",
    "\n",
    "while l<=r:\n",
    "    \n",
    "    m = (l+r)//2\n",
    "    if nums[m] == target:\n",
    "        res = m\n",
    "        break\n",
    "    if nums[m]>=nums[l]:\n",
    "        if nums[m] < target or nums[l] > target:\n",
    "            l = m+1 \n",
    "        else:\n",
    "            r=m-1 \n",
    "    else:\n",
    "        if nums[m] > target or nums[l] < target:\n",
    "            r = m-1 \n",
    "        else:\n",
    "            l = m+1\n",
    "    print('{}_{}_{}'.format(l,r,m))\n",
    "    \n",
    "res"
   ]
  },
  {
   "cell_type": "code",
   "execution_count": 415,
   "id": "38a8818f-4e58-4582-8cbd-bbc350d1cd79",
   "metadata": {},
   "outputs": [
    {
     "data": {
      "text/plain": [
       "4"
      ]
     },
     "execution_count": 415,
     "metadata": {},
     "output_type": "execute_result"
    }
   ],
   "source": [
    "l,r = 0, len(nums) - 1\n",
    "\n",
    "res = -1\n",
    "\n",
    "while l<= r:\n",
    "    m = (l+r)//2  # middle portion\n",
    "    if nums[m] == target:\n",
    "        res = m\n",
    "        break\n",
    "\n",
    "    #left portion\n",
    "    if nums[l]<= nums[m]:\n",
    "        if target>nums[m] or target<nums[l]:\n",
    "            l = m+1\n",
    "        else:\n",
    "            r = m-1\n",
    "    #right portion\n",
    "    else:\n",
    "        if target<nums[m] or target>nums[r]:\n",
    "            r = m-1\n",
    "        else:\n",
    "            l = m+1\n",
    "res"
   ]
  },
  {
   "cell_type": "code",
   "execution_count": 356,
   "id": "1f3ee256-741d-4aa9-8bca-436c4ff337f2",
   "metadata": {},
   "outputs": [
    {
     "data": {
      "text/plain": [
       "[3, 4, 5, 6, 1, 2]"
      ]
     },
     "execution_count": 356,
     "metadata": {},
     "output_type": "execute_result"
    }
   ],
   "source": [
    "[0,1,2,3,4,5]\n",
    "[5,6,1,2,3,4]\n",
    "\n",
    "[0,1,2,3,4,5]\n",
    "[4,5,6,1,2,3]\n",
    "\n",
    "[0,1,2,3,4,5]\n",
    "[3,4,5,6,1,2]"
   ]
  },
  {
   "cell_type": "code",
   "execution_count": null,
   "id": "33f0a5c8-f97e-430e-af6c-6e40656cbeaa",
   "metadata": {},
   "outputs": [],
   "source": [
    "[0,1,2,3,4]\n",
    "[5,1,2,3,4]"
   ]
  },
  {
   "cell_type": "markdown",
   "id": "dd9d2d88-71e3-4f54-b425-8559e4d71f59",
   "metadata": {},
   "source": [
    "# Linked List"
   ]
  },
  {
   "cell_type": "code",
   "execution_count": 383,
   "id": "6a692ba6-7953-40e1-abc8-50760393903e",
   "metadata": {},
   "outputs": [],
   "source": [
    "class ListNode:\n",
    "     def __init__(self, val=0, next=None):\n",
    "         self.val = val\n",
    "         self.next = next"
   ]
  },
  {
   "cell_type": "code",
   "execution_count": 384,
   "id": "4baff1a1-c8fd-4860-810c-daa4ad1df98b",
   "metadata": {},
   "outputs": [],
   "source": [
    "l = ListNode([1,2,3])"
   ]
  },
  {
   "cell_type": "code",
   "execution_count": 386,
   "id": "82d84563-6f3e-481b-8c96-abd370718db2",
   "metadata": {},
   "outputs": [
    {
     "data": {
      "text/plain": [
       "<__main__.ListNode at 0x26c11db9f10>"
      ]
     },
     "execution_count": 386,
     "metadata": {},
     "output_type": "execute_result"
    }
   ],
   "source": [
    "prev,curr = None, l\n",
    "temp = []\n",
    "\n",
    "while curr:\n",
    "    nxt = curr.next\n",
    "    curr.next = prev\n",
    "    prev = curr\n",
    "    curr = nxt\n",
    "prev"
   ]
  },
  {
   "cell_type": "code",
   "execution_count": 388,
   "id": "7f158bf5-e993-4d24-98b5-e5d32b9999a3",
   "metadata": {},
   "outputs": [
    {
     "name": "stdout",
     "output_type": "stream",
     "text": [
      "[1, 2, 3]\n"
     ]
    }
   ],
   "source": [
    "print(prev.val)"
   ]
  },
  {
   "cell_type": "code",
   "execution_count": null,
   "id": "a0bf2599-dbba-4d14-b82f-424271fb9839",
   "metadata": {},
   "outputs": [],
   "source": []
  }
 ],
 "metadata": {
  "kernelspec": {
   "display_name": "Python 3 (ipykernel)",
   "language": "python",
   "name": "python3"
  },
  "language_info": {
   "codemirror_mode": {
    "name": "ipython",
    "version": 3
   },
   "file_extension": ".py",
   "mimetype": "text/x-python",
   "name": "python",
   "nbconvert_exporter": "python",
   "pygments_lexer": "ipython3",
   "version": "3.12.7"
  }
 },
 "nbformat": 4,
 "nbformat_minor": 5
}
